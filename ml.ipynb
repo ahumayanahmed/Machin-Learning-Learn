{
 "cells": [
  {
   "cell_type": "code",
   "execution_count": 5,
   "id": "9ef72e95",
   "metadata": {},
   "outputs": [
    {
     "name": "stdout",
     "output_type": "stream",
     "text": [
      "       student_info:  s_info1\n",
      "s_name          name  humayan\n",
      "s_roll          roll       09\n",
      "s_dept         dept.      CSE\n",
      "\n",
      "row= 3\n",
      "col= 2\n",
      "    SL NO          Name Size  Number       NOTE       CONF:\n",
      "0       1       HUMAYAN    L    11.0              NaN     A\n",
      "1       2        SHAKIL   XL    20.0              NaN     A\n",
      "2       3        SHANTO  NaN     NaN              NaN     A\n",
      "3       4        AMANUR    L     7.0              NaN     A\n",
      "4       5       T-SHOEL  2XL    10.0              NaN     A\n",
      "5       6         ARMAN    M     7.0              NaN     A\n",
      "6       7        BASHAR   XL    30.0              NaN     A\n",
      "7       8    S.R SAIDUR    L    77.0              NaN     A\n",
      "8       9      ASHRAFUL   XL    98.0              NaN     A\n",
      "9      10       AL-AMIN   XL     5.0              NaN     A\n",
      "10     11     S.A UJJAL    L     NaN              NaN     A\n",
      "11     12   JR.JAHANGIR   XL    50.0              NaN     A\n",
      "12     13   NURUL ISLAM    M    47.0              NaN     A\n",
      "13     14     LITON RAJ  NaN     NaN              NaN     A\n",
      "14     15        KAMRUL   XL     5.0              NaN     A\n",
      "15     16        KHALIL    L    12.0              NaN     A\n",
      "16     17         MAMUN    L    10.0              NaN   NaN\n",
      "17     18  ARIYAN RUBEL   XL    11.0              NaN     A\n",
      "18     19      MOHABBAT   XL     7.0              NaN     A\n",
      "19     20    RAJU AHMED   XL    21.1              NaN   NaN\n",
      "20     21     M.A.BARIK    M    66.0              NaN     A\n",
      "21     22    RAJ RAZZAK    L    30.0              NaN     A\n",
      "22     23         RABBI    M     NaN              NaN     A\n",
      "23     24         HABIB    L    10.0              NaN     A\n",
      "24     25      RJ RASEL    M    10.0              NaN   NaN\n",
      "25     26    ASIF MAMUN  2XL    30.0              NaN   NaN\n",
      "26     27        SHOHEL  NaN     NaN              NaN     A\n",
      "27     28        NAJMUL  NaN     NaN              NaN     A\n"
     ]
    }
   ],
   "source": [
    "import pandas as pd\n",
    "info=['name','roll','dept.']\n",
    "info1=['humayan','09','CSE']\n",
    "df=pd.DataFrame(zip(info,info1),columns=['student_info:','s_info1'], index=['s_name','s_roll','s_dept'])\n",
    "print(df)\n",
    "row,col=df.shape\n",
    "print('\\nrow=',row)\n",
    "print('col=',col)\n",
    "df1=pd.read_excel('Royal Knigths-17.xlsx')\n",
    "print(df1)"
   ]
  }
 ],
 "metadata": {
  "kernelspec": {
   "display_name": "Python 3",
   "language": "python",
   "name": "python3"
  },
  "language_info": {
   "codemirror_mode": {
    "name": "ipython",
    "version": 3
   },
   "file_extension": ".py",
   "mimetype": "text/x-python",
   "name": "python",
   "nbconvert_exporter": "python",
   "pygments_lexer": "ipython3",
   "version": "3.10.11"
  }
 },
 "nbformat": 4,
 "nbformat_minor": 5
}
